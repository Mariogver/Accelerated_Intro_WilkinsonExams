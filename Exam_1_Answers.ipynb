{
 "cells": [
  {
   "cell_type": "markdown",
   "metadata": {},
   "source": [
    "# Problem 1:\n",
    "\n",
    "If you are able to read this, then the steps folllowed were correct. First, I have entered the Accelerated_Intro_WilkinsonExams file cloned into my computer (VM) through the terminal, and executed the command **jupyter notebook** to open the folder. Then just created a new notebook with a bash kernel and renamed it to Exam_1_Answers.\n"
   ]
  },
  {
   "cell_type": "markdown",
   "metadata": {},
   "source": [
    "# Problem 2:\n",
    "\n",
    "First, I use the command *mkdir* to create the directory and we assign it the name Exam_1. This will create a new directory in the folder I am inside of(Accelerated_Intro_WIlkinsonExams). After that, by means of the *ls* \"listing\" command I can see the contents of that folder, including the newly made Exam_1 directory. In order to see the size, permission and ownership of each file, we put the flags *-l* (list type) and *-h* (human readable) to the command *ls*. \n",
    "Te output is a list of nearly all files (*-f* for full list) with the **drwx** code for permissions on the first column, the two next columns (osboxes osboxes) make reference to the group and user. Next to those, the size of the folder is given in kilo and Megabytes (or simply bytes). Last part is the date the file was created.\n",
    "In the case of the Exam_1 directory, the permissions can be read as:\n",
    "d > a directory\n",
    "r > readable\n",
    "w > permission to write\n",
    "x > permission to execute\n",
    "Every three letters refer to the permissions conceaded to User, Group, and everybody respectivelly. For this directory then, all users and groups can read, write and execute the directory, but a non-related individual in the system (everyone) can only read and execute.\n",
    "For the Locus_Germplasm_Phenotype file the permissions are all users can read and write but not execute, same for groups and finally in the case of everyone the can only read the file.\n",
    "Finally, I removed the directory with a *rm* remove dir command and a *-r* flag to make sure is deleted.\n"
   ]
  },
  {
   "cell_type": "code",
   "execution_count": null,
   "metadata": {},
   "outputs": [],
   "source": [
    "mkdir Exam_1\n",
    "ls -lh \n",
    "rm -r Exam_1\n",
    "ls -lh"
   ]
  },
  {
   "cell_type": "markdown",
   "metadata": {},
   "source": [
    "# Problem 3\n",
    "\n",
    "In order to only show the header of the file, I have employed a *head* command wich displays the lines of the file from the top to the bottom. IN this case, as I only need to display the first line, *head* is followed by a -1 which refers to the number of lines to be shown."
   ]
  },
  {
   "cell_type": "code",
   "execution_count": null,
   "metadata": {},
   "outputs": [],
   "source": [
    "head -1 Locus_Germplasm_Phenotype_20130122.txt"
   ]
  },
  {
   "cell_type": "markdown",
   "metadata": {},
   "source": [
    "# Problem 4\n",
    "\n",
    "In order to know the total lines of a file, I have used the command *wc* (word count). This command can be used on its own, but I have piped it to the outcome of a *cat* command just to add some interest. Although the command is called word count it can also be used to ask for the number of lines with the proper flag.\n",
    "*wc -l* is asking for just the number of lines (flag *-l*)"
   ]
  },
  {
   "cell_type": "code",
   "execution_count": null,
   "metadata": {},
   "outputs": [],
   "source": [
    "cat Locus_Germplasm_Phenotype_20130122.txt|wc -l"
   ]
  },
  {
   "cell_type": "markdown",
   "metadata": {},
   "source": [
    "# Problem 5\n",
    "\n",
    "The simplest way of doing this task if the size of the file is known, as it is the case, is to use a *tail* command with the total number of lines minus 1. *Tail* is the opposite of *Head*, as it displays the selected number of lines from the file starting from the bottom and towards the top. The output of the *tail* command is therefore the total of lines except for the first one, and its stored in a file named Data_Only.csv as required. In order to prove that the file is indeed all lines minus header, the total number of lines are counted in both files with the *wc -l* command. The original file had 7216 lines, and the Data_Only.csv file has exactly 7216-1 = 7215."
   ]
  },
  {
   "cell_type": "code",
   "execution_count": null,
   "metadata": {},
   "outputs": [],
   "source": [
    "tail -7215 Locus_Germplasm_Phenotype_20130122.txt> Data_Only.csv\n",
    "wc -l Locus_Germplasm_Phenotype_20130122.txt\n",
    "wc -l Data_Only.csv\n",
    "rm Data_Only.csv"
   ]
  },
  {
   "cell_type": "markdown",
   "metadata": {},
   "source": [
    "My second attept of doing this in a more sophisticated way didn't go as planned, and I still cannot find the error or why does the BABA file only have 7112 lines instead of 7215. First, I displayed the two strating lines of the file Locus_Germplasm... so I can confirm if the sustraction of the header is done correctly. A *grep* searching for one of the words in the header (pubmed_id) displays only one result, the one that is on the header and takes the whole header line as shown by the *cat*. A second *grep* exactly like the first one but with the *-v* flag was supposed to take all lines of the file minus the header and store them in a BABA named file. But the *wc* command shows that instead of the expected 7215 the BABA file has 7112. I still don't really know where the missing lines went and why."
   ]
  },
  {
   "cell_type": "code",
   "execution_count": null,
   "metadata": {},
   "outputs": [],
   "source": [
    "head -2 Locus_Germplasm_Phenotype_20130122.txt\n",
    "grep -w \"pubmed_id\" Locus_Germplasm_Phenotype_20130122.txt| cat\n",
    "grep -w -v \"pubmed_id\" Locus_Germplasm_Phenotype_20130122.txt > BABA\n",
    "head -1 BABA\n",
    "wc -l BABA\n",
    "rm BABA\n"
   ]
  },
  {
   "cell_type": "markdown",
   "metadata": {},
   "source": [
    "# Problem 6\n",
    "\n",
    "As the word mentioned is \"root\", therefore all variations or plural of the mentioned word will be ignored. To show all the lines with the word \"root\" on their phenotype column (which is the only column that displays text in the file, and made this much easier) I just had to do a *grep* command with the *-i* flag to avoid case specificness, *-n* to show the line number and *-w* to search for whole words. "
   ]
  },
  {
   "cell_type": "code",
   "execution_count": null,
   "metadata": {},
   "outputs": [],
   "source": [
    "grep -inw \"root\" Locus_Germplasm_Phenotype_20130122.txt"
   ]
  },
  {
   "cell_type": "markdown",
   "metadata": {},
   "source": [
    "# Problem 7\n",
    "\n",
    "In the previous excercise I already selected the lines with \"root\" on their phenotype, so following those steps I save the output on a file named ABBA. Then, made a *grep* command with the *-E* flag for regular expressions and a *-io* to avoid case specificness and to show only the word required by the *grep*. In this case the AGI Locus code is formed by two possile letters (A-a) or (T-t) in the first two possitions, so [A-Z] means the must be letters and {2} specifies the two first positions. Then it comes the chromosome number, from [1-5] and another letter [A-Z]. The last 5 digits are numbers from [0-9] and the {5} is specified. The output of this *grep* is stored in a new file named Root-associated-LOci.txt. To make sure all AGI codes were taken, a *wc* command was used. Apparently the ABBA file is slightly bigger than the Root-associated... this is because some of the last ABBA lines do not show a AGI code, but a 4 character identificator wich could mean they do not have the AGI code or any other reason. Those unknown codes were not asked for and thus not extracted. A *cat* command is done to make sure the file created is ok, and after that both are removed so the next time this script runs they wont be overwritten."
   ]
  },
  {
   "cell_type": "code",
   "execution_count": null,
   "metadata": {},
   "outputs": [],
   "source": [
    "grep -inw \"root\" Locus_Germplasm_Phenotype_20130122.txt >> ABBA\n",
    "grep -E -io \"\\w{2}[1-5][A-Z][0-9]{5}\" ABBA >> Root-associated-Loci.txt\n",
    "wc -l Root-associated-Loci.txt\n",
    "wc -l ABBA\n",
    "cat Root-associated-Loci.txt\n",
    "rm ABBA\n",
    "rm Root-associated-Loci.txt"
   ]
  },
  {
   "cell_type": "markdown",
   "metadata": {},
   "source": [
    "# Problem 8\n",
    "\n",
    "Similarly to the previous excercise, the file containig only the lines with \"root\" on their phenotypes is named ABBA. Its number of lines are displayed for further comprobations with the *wc -l* command. To extract the pubmed id of every line we follow a similar strategy as in the excercise avobe and start a *grep* command searching for space \"\\s\", numbers from 0 to 9 in a sequence \"+\" (more than one) and at the end of the line \"$\" and the *-ino* flags. Theoutput is stored in a file named Root-associated-Publication.txt, and the number of lines displayed by *wc*. But the lines inside Root-associated... was way smaller than ABBA file (558 vs 628). In order to assure that all the pubmed ids were correctly extracted I did a *cat* command with the *-n* flag to see the line number, so whenever I found a disonance between the ABBA line number and the Root... line number (remember that the *grep* that extracted the ABBA from the Locus_Germplasm file had the -n flag, and theorically all lines containing a phenotype should have a pubmed id, thus the file should had same number of lines and each line the same number). \n",
    "The first disonance is on line 26 of the ABBA file, which was not *grep*-ed to the Root... file. Searching for it on the ABBA file, I discovered that line (line 257 on the Locus_Germplasm... file) has no pubmed identificator. This can be a mistake during the development of the file, or simply there is no pubmed file. Assuming that my code was correct, and that the missing lines are only due to the lack of associated publications I finally removed the created files (*rm*)\n",
    "\n"
   ]
  },
  {
   "cell_type": "code",
   "execution_count": null,
   "metadata": {},
   "outputs": [],
   "source": [
    "grep -inw \"root\" Locus_Germplasm_Phenotype_20130122.txt >> ABBA\n",
    "wc -l ABBA\n",
    "grep -E -ino \"\\s[0-9]+$\" ABBA>> Root-associated-Publications.txt\n",
    "wc -l Root-associated-Publications.txt\n",
    "cat -n Root-associated-Publications.txt\n",
    "rm ABBA\n",
    "rm Root-associated-Publications.txt"
   ]
  },
  {
   "cell_type": "markdown",
   "metadata": {},
   "source": [
    "# Problem 9\n",
    "\n",
    "The AGI locus code states that the third caracter (number from 1-5) refers to the number of chromosome the gene is located in. THus, if the hypothesis is correct we should find in root associated genes' AGIs examples of all numbers from 1 to 5 at least once. To demonstrate this and as done in pervious excercises I isolated the \"root\" cointaining phenotypes and stored them in a file named ABBA. After that I isolated the AGI codes just like in excercise 7 on another file named Root-associated-Loci.txt. By doing several *grep* on that file looking for the specificity on the third character (*\\w{2}* first two leters don't matter, third charecter ranging from 1 to 5 and another unimportant 6 word characters *\\w{6}*) and storing each possible output in a different file (Chr 1 to 5, meaning chromosomes 1 to 5), I can then classify the AGIs of the genes according to the chromosome they are found on. If all of those new archives have at least one AGI this would mean that our hypothesis is correct, this can be proved by measuring the number of lines in each file with a simple *wc -l* command. After demonstrating that indeed genes assocaited with roots can be found on all chromosomes, I removed all files to avoid overwritting."
   ]
  },
  {
   "cell_type": "code",
   "execution_count": null,
   "metadata": {},
   "outputs": [],
   "source": [
    "grep -inw \"root\" Locus_Germplasm_Phenotype_20130122.txt >> ABBA\n",
    "grep -E -io \"\\w{2}[1-5][A-Z][0-9]{5}\" ABBA >> Root-associated-Loci.txt\n",
    "wc -l Root-associated-Loci.txt\n",
    "grep -E -io \"\\w{2}1\\w{6}\" Root-associated-Loci.txt >> Chr1\n",
    "grep -E -io \"\\w{2}2\\w{6}\" Root-associated-Loci.txt>> Chr2\n",
    "grep -E -io \"\\w{2}3\\w{6}\" Root-associated-Loci.txt>> Chr3\n",
    "grep -E -io \"\\w{2}4\\w{6}\" Root-associated-Loci.txt>> Chr4\n",
    "grep -E -io \"\\w{2}5\\w{6}\" Root-associated-Loci.txt>> Chr5\n",
    "wc -l Chr1\n",
    "wc -l Chr2\n",
    "wc -l Chr3\n",
    "wc -l Chr4\n",
    "wc -l Chr5\n",
    "rm Root-associated-Loci.txt\n",
    "rm ABBA\n",
    "rm Chr1\n",
    "rm Chr2\n",
    "rm Chr3\n",
    "rm Chr4\n",
    "rm Chr5"
   ]
  }
 ],
 "metadata": {
  "celltoolbar": "Tags",
  "kernelspec": {
   "display_name": "Bash",
   "language": "bash",
   "name": "bash"
  },
  "language_info": {
   "codemirror_mode": "shell",
   "file_extension": ".sh",
   "mimetype": "text/x-sh",
   "name": "bash"
  }
 },
 "nbformat": 4,
 "nbformat_minor": 2
}
